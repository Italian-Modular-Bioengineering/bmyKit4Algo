{
  "cells": [
    {
      "cell_type": "markdown",
      "metadata": {
        "id": "JngeUCODttrv"
      },
      "source": [
        "# Difference-in-Differences (DID) in Bioingegneria\n",
        "In questo notebook analizziamo l'impatto di un intervento di bioingegneria, come l'utilizzo di un esoscheletro riabilitativo, sulla mobilità dei pazienti utilizzando il metodo Difference-in-Differences (DID).\n",
        "Questo approccio è utile per stimare effetti causali confrontando le variazioni tra un gruppo trattato e un gruppo di controllo."
      ]
    },
    {
      "cell_type": "markdown",
      "metadata": {
        "id": "5StffP7ettrz"
      },
      "source": [
        "## Teoria del Difference-in-Differences\n",
        "Il metodo DID stima l'effetto di un trattamento confrontando le differenze negli **outcome** medi tra gruppi e periodi.\n",
        "\n",
        "### Formula Generale\n",
        "L'effetto medio del trattamento sugli individui trattati (ATT) è dato da:\n",
        "$$\n",
        "ATT = \\big(E[Y|D=1, Post=1] - E[Y|D=1, Post=0]\\big) - \\big(E[Y|D=0, Post=1] - E[Y|D=0, Post=0]\\big)\n",
        "$$\n",
        "\n",
        "Dove:\n",
        "- $E[Y|D=1, Post=1]$: Valore medio dell'outcome nel gruppo trattato dopo il trattamento.\n",
        "- $E[Y|D=1, Post=0]$: Valore medio dell'outcome nel gruppo trattato prima del trattamento.\n",
        "- $E[Y|D=0, Post=1]$: Valore medio dell'outcome nel gruppo di controllo dopo il trattamento.\n",
        "- $E[Y|D=0, Post=0]$: Valore medio dell'outcome nel gruppo di controllo prima del trattamento.\n",
        "\n",
        "### Ipotesi\n",
        "Perché DID sia valido, devono essere rispettate alcune ipotesi:\n",
        "- **Parallel Trend**: I due gruppi (controllo e trattato) avrebbero seguito la stessa traiettoria senza intervento.\n",
        "- **Assenza di Spillover**: Il trattamento non influenza il gruppo di controllo.\n",
        "- **Stabilità della composizione dei gruppi**: Non ci sono cambiamenti significativi nella composizione dei gruppi durante il periodo di studio."
      ]
    },
    {
      "cell_type": "markdown",
      "metadata": {
        "id": "l4I_EzYKttr1"
      },
      "source": [
        "## Simulazione dei Dati\n",
        "Per illustrare l'approccio, genereremo un dataset simulato con due gruppi:\n",
        "- **Gruppo di controllo**: Pazienti senza esoscheletro.\n",
        "- **Gruppo trattato**: Pazienti che utilizzano l'esoscheletro.\n",
        "\n",
        "Gli outcome rappresentano un punteggio di mobilità medio prima e dopo l'introduzione del trattamento."
      ]
    },
    {
      "cell_type": "code",
      "metadata": {
        "colab": {
          "base_uri": "https://localhost:8080/"
        },
        "id": "kXWD5D4Zttr3",
        "outputId": "08c2d074-7611-4d47-ce31-1989c6eb22a9"
      },
      "execution_count": null,
      "outputs": [
        {
          "output_type": "stream",
          "name": "stdout",
          "text": [
            "Numero totale di pazienti simulati: 200\n",
            "Esempio dei dati iniziali (prime 5 righe):\n",
            "   patient_id  treated  pre_mobility post_mobility\n",
            "0           0        0     43.199753          None\n",
            "1           1        1     52.322537          None\n",
            "2           2        1     52.930725          None\n",
            "3           3        1     42.856486          None\n",
            "4           4        0     68.657745          None\n",
            "Effetto del trattamento impostato a: 10\n",
            "Esempio dei dati post trattamento (prime 5 righe):\n",
            "   patient_id  treated  pre_mobility  post_mobility\n",
            "0           0        0     43.199753      47.488051\n",
            "1           1        1     52.322537      61.522844\n",
            "2           2        1     52.930725      62.835644\n",
            "3           3        1     42.856486      47.843839\n",
            "4           4        0     68.657745      68.565179\n",
            "Aggiunta la colonna 'post' per indicare il periodo pre/post intervento.\n",
            "   patient_id  treated  post\n",
            "0           0        0     0\n",
            "1           1        1     1\n",
            "2           2        1     0\n",
            "3           3        1     1\n",
            "4           4        0     0\n",
            "\n",
            "Dataset finale (prime 10 righe):\n",
            "   patient_id  treated  pre_mobility  post_mobility  post\n",
            "0           0        0     43.199753      47.488051     0\n",
            "1           1        1     52.322537      61.522844     1\n",
            "2           2        1     52.930725      62.835644     0\n",
            "3           3        1     42.856486      47.843839     1\n",
            "4           4        0     68.657745      68.565179     0\n",
            "5           5        0     54.738329      53.295036     1\n",
            "6           6        0     38.086965      39.700558     0\n",
            "7           7        1     56.565536      62.429381     1\n",
            "8           8        1     40.253183      52.849916     0\n",
            "9           9        1     57.870846      75.534541     1\n",
            "\n",
            "Statistiche descrittive per pre_mobility:\n",
            "         count       mean        std        min        25%        50%  \\\n",
            "treated                                                                 \n",
            "0        102.0  50.396377  10.667513  17.587327  42.753077  51.240340   \n",
            "1         98.0  50.963246   8.602104  31.327348  44.504708  50.549259   \n",
            "\n",
            "               75%        max  \n",
            "treated                        \n",
            "0        56.238517  88.527315  \n",
            "1        57.389703  77.201692  \n",
            "\n",
            "Statistiche descrittive per post_mobility:\n",
            "         count       mean        std        min        25%        50%  \\\n",
            "treated                                                                 \n",
            "0        102.0  50.122874  11.665971  14.088699  44.060254  50.227577   \n",
            "1         98.0  60.670804   9.484984  34.131773  54.537717  61.515070   \n",
            "\n",
            "               75%        max  \n",
            "treated                        \n",
            "0        55.747078  91.099509  \n",
            "1        67.803933  83.160200  \n"
          ]
        }
      ],
      "source": [
        "import pandas as pd\n",
        "import numpy as np\n",
        "import matplotlib.pyplot as plt\n",
        "\n",
        "# Simulazione dei dati\n",
        "np.random.seed(42)  # Fissiamo il seed per rendere i risultati riproducibili\n",
        "n_patients = 200  # Numero totale di pazienti\n",
        "print(f\"Numero totale di pazienti simulati: {n_patients}\")\n",
        "\n",
        "# Creazione del dizionario dei dati\n",
        "data = {\n",
        "    'patient_id': np.arange(n_patients),  # ID univoco per ciascun paziente\n",
        "    'treated': np.random.choice([0, 1], size=n_patients, p=[0.5, 0.5]),  # Gruppo di trattamento (1: trattato, 0: controllo)\n",
        "    'pre_mobility': np.random.normal(50, 10, size=n_patients),  # Mobilità media prima del trattamento\n",
        "    'post_mobility': None  # Placeholder per i dati di mobilità dopo il trattamento\n",
        "}\n",
        "print(\"Esempio dei dati iniziali (prime 5 righe):\")\n",
        "print(pd.DataFrame(data).head())\n",
        "\n",
        "# Creazione del DataFrame\n",
        "df = pd.DataFrame(data)\n",
        "\n",
        "# Introduzione dell'effetto del trattamento\n",
        "treatment_effect = 10  # Effetto del trattamento sulla mobilità\n",
        "print(f\"Effetto del trattamento impostato a: {treatment_effect}\")\n",
        "\n",
        "# Calcolo della mobilità post-intervento\n",
        "# Aggiungiamo un effetto al gruppo trattato e introduciamo una variazione casuale\n",
        "df['post_mobility'] = df['pre_mobility'] + np.where(df['treated'] == 1, treatment_effect, 0) + np.random.normal(0, 5, n_patients)\n",
        "print(\"Esempio dei dati post trattamento (prime 5 righe):\")\n",
        "print(df[['patient_id', 'treated', 'pre_mobility', 'post_mobility']].head())\n",
        "\n",
        "# Creazione della colonna 'post' per indicare il periodo\n",
        "df['post'] = np.tile([0, 1], n_patients // 2)  # Alterniamo pre (0) e post (1) tra i pazienti\n",
        "print(\"Aggiunta la colonna 'post' per indicare il periodo pre/post intervento.\")\n",
        "print(df[['patient_id', 'treated', 'post']].head())\n",
        "\n",
        "# Mostriamo il dataset finale (prime righe)\n",
        "print(\"\\nDataset finale (prime 10 righe):\")\n",
        "print(df.head(10))\n",
        "\n",
        "# Verifica delle statistiche descrittive per i gruppi\n",
        "print(\"\\nStatistiche descrittive per pre_mobility:\")\n",
        "print(df.groupby('treated')['pre_mobility'].describe())\n",
        "\n",
        "print(\"\\nStatistiche descrittive per post_mobility:\")\n",
        "print(df.groupby('treated')['post_mobility'].describe())\n"
      ]
    },
    {
      "cell_type": "markdown",
      "metadata": {
        "id": "gxpacB6cttr5"
      },
      "source": [
        "## Calcolo del Difference-in-Differences (DID)\n",
        "\n",
        "### Obiettivo\n",
        "Il calcolo del DID mira a stimare l'effetto medio del trattamento (ATT) confrontando le variazioni negli **outcome** medi tra i gruppi trattato e di controllo, nei periodi pre e post-intervento.\n",
        "\n",
        "### Passaggi:\n",
        "1. **Raggruppamento dei dati**:\n",
        "   - Dividiamo il dataset in combinazioni di gruppo (trattato e controllo) e periodo (pre e post).\n",
        "   - Calcoliamo la media degli **outcome** per ciascuna combinazione.\n",
        "\n",
        "2. **Applicazione della formula del DID**:\n",
        "   La formula generale per calcolare l'effetto medio del trattamento sugli individui trattati (ATT) è:\n",
        "   $$\n",
        "   ATT = \\big(\\bar{Y}_{T,Post} - \\bar{Y}_{T,Pre}\\big) - \\big(\\bar{Y}_{C,Post} - \\bar{Y}_{C,Pre}\\big)\n",
        "   $$\n",
        "   Dove:\n",
        "   - $\\bar{Y}_{T,Post}$: Media degli **outcome** nel gruppo trattato dopo l'intervento.\n",
        "   - $\\bar{Y}_{T,Pre}$: Media degli **outcome** nel gruppo trattato prima dell'intervento.\n",
        "   - $\\bar{Y}_{C,Post}$: Media degli **outcome** nel gruppo di controllo dopo l'intervento.\n",
        "   - $\\bar{Y}_{C,Pre}$: Media degli **outcome** nel gruppo di controllo prima dell'intervento.\n",
        "\n",
        "3. **Interpretazione dei risultati**:\n",
        "   - **ATT positivo**: Indica che l'intervento ha avuto un effetto positivo sul gruppo trattato.\n",
        "   - **ATT negativo**: Indica che l'intervento ha avuto un effetto negativo sul gruppo trattato.\n",
        "   - **ATT vicino a zero**: L'intervento non ha avuto effetti significativi rispetto al gruppo di controllo.\n",
        "\n",
        "### Considerazioni:\n",
        "- Il DID si basa sull'ipotesi di **Parallel Trend**, che implica che i due gruppi avrebbero seguito traiettorie simili in assenza di trattamento.\n",
        "- Eventuali violazioni di questa ipotesi possono influenzare la validità dei risultati.\n"
      ]
    },
    {
      "cell_type": "code",
      "metadata": {
        "colab": {
          "base_uri": "https://localhost:8080/"
        },
        "id": "6iMDZhHmttr6",
        "outputId": "4db0794b-527a-4729-f268-6444bbe656e5"
      },
      "execution_count": null,
      "outputs": [
        {
          "output_type": "stream",
          "name": "stdout",
          "text": [
            "\n",
            "Calcoliamo le medie per le combinazioni di gruppo (trattato/non trattato) e periodo (pre/post):\n",
            "              pre_mobility  post_mobility\n",
            "treated post                             \n",
            "0       0        50.095920      50.885519\n",
            "        1        50.708852      49.329724\n",
            "1       0        51.564584      60.423755\n",
            "        1        50.385962      60.907971\n",
            "\n",
            "Baseline del gruppo trattato (mobilità media pre-intervento): 51.56\n",
            "Variazione della mobilità nel gruppo di controllo: -0.77\n",
            "Stima del controfattuale per il gruppo trattato: 50.80\n",
            "\n",
            "Effetto Medio del Trattamento (ATT): 10.11\n"
          ]
        }
      ],
      "source": [
        "# Calcolo delle medie per ogni combinazione di 'treated' e 'post'\n",
        "print(\"\\nCalcoliamo le medie per le combinazioni di gruppo (trattato/non trattato) e periodo (pre/post):\")\n",
        "did_data = (\n",
        "    df.groupby(['treated', 'post'])\n",
        "    .agg({'pre_mobility': 'mean', 'post_mobility': 'mean'})  # Calcoliamo le medie per pre e post-mobilità\n",
        ")\n",
        "print(did_data)\n",
        "\n",
        "# Calcolo del controfattuale\n",
        "# Media della mobilità pre-intervento per il gruppo trattato\n",
        "treated_baseline = did_data.loc[(1, 0), 'pre_mobility']\n",
        "print(f\"\\nBaseline del gruppo trattato (mobilità media pre-intervento): {treated_baseline:.2f}\")\n",
        "\n",
        "# Differenza nella mobilità nel gruppo di controllo (post - pre)\n",
        "control_diff = did_data.loc[(0, 1), 'post_mobility'] - did_data.loc[(0, 0), 'pre_mobility']\n",
        "print(f\"Variazione della mobilità nel gruppo di controllo: {control_diff:.2f}\")\n",
        "\n",
        "# Controfattuale per il gruppo trattato (baseline + variazione del controllo)\n",
        "counterfactual = treated_baseline + control_diff\n",
        "print(f\"Stima del controfattuale per il gruppo trattato: {counterfactual:.2f}\")\n",
        "\n",
        "# Calcolo dell'ATT (effetto medio del trattamento)\n",
        "# Differenza tra il risultato osservato nel gruppo trattato post-intervento e il controfattuale\n",
        "att = did_data.loc[(1, 1), 'post_mobility'] - counterfactual\n",
        "print(f\"\\nEffetto Medio del Trattamento (ATT): {att:.2f}\")\n"
      ]
    },
    {
      "cell_type": "markdown",
      "metadata": {
        "id": "FkixcyQJttr7"
      },
      "source": [
        "### Interpretazione del Risultato\n",
        "\n",
        "L'interpretazione del valore stimato per l'**ATT** (Effetto Medio del Trattamento sugli individui trattati) fornisce indicazioni importanti sull'efficacia dell'intervento.\n",
        "\n",
        "- **Significato dell'ATT**:\n",
        "  - Il valore stimato rappresenta la differenza media negli **outcome** attribuibile al trattamento, confrontando il gruppo trattato con il gruppo di controllo.\n",
        "\n",
        "- **Risultati Possibili**:\n",
        "  1. **ATT positivo**:\n",
        "     - Indica che il trattamento ha migliorato l'**outcome** (es. mobilità) del gruppo trattato rispetto al gruppo di controllo.\n",
        "     - L'intervento può essere considerato efficace.\n",
        "  2. **ATT negativo**:\n",
        "     - Indica che il trattamento ha ridotto l'**outcome** del gruppo trattato rispetto al gruppo di controllo.\n",
        "     - Questo potrebbe suggerire effetti negativi o indesiderati del trattamento.\n",
        "  3. **ATT vicino a zero**:\n",
        "     - Suggerisce che il trattamento non ha avuto un impatto significativo rispetto al gruppo di controllo.\n",
        "     - Potrebbero essere necessari ulteriori studi per comprendere le ragioni di questo risultato.\n",
        "\n",
        "- **Considerazioni Aggiuntive**:\n",
        "  - I risultati devono essere interpretati alla luce delle ipotesi del metodo Difference-in-Differences, in particolare l'ipotesi di **Parallel Trend**.\n",
        "  - Eventuali confondenti o violazioni delle ipotesi potrebbero influenzare la stima dell'ATT e la sua interpretazione.\n"
      ]
    },
    {
      "cell_type": "markdown",
      "metadata": {
        "id": "zC1Rq6sattr8"
      },
      "source": [
        "## Visualizzazione dei Risultati\n",
        "\n",
        "La visualizzazione è fondamentale per comprendere meglio i risultati ottenuti dall'analisi Difference-in-Differences (DID). In questa sezione, creiamo un grafico che evidenzia:\n",
        "\n",
        "1. **Risultati Osservati**:\n",
        "   - La traiettoria degli **outcome** medi nel tempo per il gruppo trattato e il gruppo di controllo, sia prima che dopo l'intervento.\n",
        "   - Questi dati rappresentano le osservazioni reali ottenute dal dataset.\n",
        "\n",
        "2. **Stima del Controfattuale**:\n",
        "   - La traiettoria stimata per il gruppo trattato in assenza dell'intervento, calcolata utilizzando la formula del DID.\n",
        "   - Il controfattuale è una previsione teorica basata sull'ipotesi di Parallel Trend.\n",
        "\n",
        "### Elementi del Grafico\n",
        "- **Linea per il gruppo trattato (osservato)**:\n",
        "  Mostra l'andamento reale degli **outcome** per i pazienti trattati nei periodi pre e post-intervento.\n",
        "- **Linea per il gruppo di controllo (osservato)**:\n",
        "  Rappresenta la traiettoria reale degli **outcome** per i pazienti di controllo nei periodi pre e post-intervento.\n",
        "- **Linea per il controfattuale (stimato)**:\n",
        "  Mostra la traiettoria attesa per il gruppo trattato in assenza di intervento. Questa linea è fondamentale per visualizzare l'effetto stimato del trattamento.\n",
        "\n",
        "### Interpretazione\n",
        "- La differenza tra il **risultato osservato** e il **controfattuale stimato** nel periodo post-intervento rappresenta il valore dell'**ATT**.\n",
        "- Un'analisi visiva consente di verificare se i dati rispettano l'ipotesi di Parallel Trend (ovvero traiettorie parallele prima dell'intervento).\n",
        "\n",
        "Questa rappresentazione grafica facilita la comprensione sia dei risultati numerici che delle ipotesi alla base del modello.\n"
      ]
    },
    {
      "cell_type": "code",
      "metadata": {
        "colab": {
          "base_uri": "https://localhost:8080/",
          "height": 624
        },
        "id": "UeZvqmSNttr9",
        "outputId": "76c95f66-eaab-4453-ad7c-7f75d00cf190"
      },
      "execution_count": null,
      "outputs": [
        {
          "output_type": "stream",
          "name": "stdout",
          "text": [
            "\n",
            "Visualizzazione dei risultati:\n",
            "Dati osservati - Gruppo trattato: Pre-Intervento = 51.56, Post-Intervento = 60.91\n",
            "Dati osservati - Gruppo di controllo: Pre-Intervento = 50.10, Post-Intervento = 49.33\n",
            "Dati stimati - Controfattuale gruppo trattato: Pre-Intervento = 51.56, Post-Intervento = 50.80\n"
          ]
        },
        {
          "output_type": "display_data",
          "data": {
            "text/html": [
              "<html>\n",
              "<head><meta charset=\"utf-8\" /></head>\n",
              "<body>\n",
              "    <div>            <script src=\"https://cdnjs.cloudflare.com/ajax/libs/mathjax/2.7.5/MathJax.js?config=TeX-AMS-MML_SVG\"></script><script type=\"text/javascript\">if (window.MathJax && window.MathJax.Hub && window.MathJax.Hub.Config) {window.MathJax.Hub.Config({SVG: {font: \"STIX-Web\"}});}</script>                <script type=\"text/javascript\">window.PlotlyConfig = {MathJaxConfig: 'local'};</script>\n",
              "        <script charset=\"utf-8\" src=\"https://cdn.plot.ly/plotly-2.35.2.min.js\"></script>                <div id=\"ca28e0c4-5243-4c0a-a345-30dece01f9e9\" class=\"plotly-graph-div\" style=\"height:500px; width:100%;\"></div>            <script type=\"text/javascript\">                                    window.PLOTLYENV=window.PLOTLYENV || {};                                    if (document.getElementById(\"ca28e0c4-5243-4c0a-a345-30dece01f9e9\")) {                    Plotly.newPlot(                        \"ca28e0c4-5243-4c0a-a345-30dece01f9e9\",                        [{\"line\":{\"color\":\"blue\",\"dash\":\"solid\"},\"marker\":{\"size\":8},\"mode\":\"lines+markers\",\"name\":\"Trattato (osservato)\",\"x\":[\"Pre-Intervento\",\"Post-Intervento\"],\"y\":[51.564583564816594,60.907970688773254],\"type\":\"scatter\"},{\"line\":{\"color\":\"green\",\"dash\":\"solid\"},\"marker\":{\"size\":8},\"mode\":\"lines+markers\",\"name\":\"Controllo (osservato)\",\"x\":[\"Pre-Intervento\",\"Post-Intervento\"],\"y\":[50.0959199705741,49.3297240400699],\"type\":\"scatter\"},{\"line\":{\"color\":\"red\",\"dash\":\"dash\"},\"marker\":{\"size\":8,\"symbol\":\"x\"},\"mode\":\"lines+markers\",\"name\":\"Trattato (controfattuale)\",\"x\":[\"Pre-Intervento\",\"Post-Intervento\"],\"y\":[51.564583564816594,50.79838763431239],\"type\":\"scatter\"}],                        {\"template\":{\"data\":{\"barpolar\":[{\"marker\":{\"line\":{\"color\":\"white\",\"width\":0.5},\"pattern\":{\"fillmode\":\"overlay\",\"size\":10,\"solidity\":0.2}},\"type\":\"barpolar\"}],\"bar\":[{\"error_x\":{\"color\":\"#2a3f5f\"},\"error_y\":{\"color\":\"#2a3f5f\"},\"marker\":{\"line\":{\"color\":\"white\",\"width\":0.5},\"pattern\":{\"fillmode\":\"overlay\",\"size\":10,\"solidity\":0.2}},\"type\":\"bar\"}],\"carpet\":[{\"aaxis\":{\"endlinecolor\":\"#2a3f5f\",\"gridcolor\":\"#C8D4E3\",\"linecolor\":\"#C8D4E3\",\"minorgridcolor\":\"#C8D4E3\",\"startlinecolor\":\"#2a3f5f\"},\"baxis\":{\"endlinecolor\":\"#2a3f5f\",\"gridcolor\":\"#C8D4E3\",\"linecolor\":\"#C8D4E3\",\"minorgridcolor\":\"#C8D4E3\",\"startlinecolor\":\"#2a3f5f\"},\"type\":\"carpet\"}],\"choropleth\":[{\"colorbar\":{\"outlinewidth\":0,\"ticks\":\"\"},\"type\":\"choropleth\"}],\"contourcarpet\":[{\"colorbar\":{\"outlinewidth\":0,\"ticks\":\"\"},\"type\":\"contourcarpet\"}],\"contour\":[{\"colorbar\":{\"outlinewidth\":0,\"ticks\":\"\"},\"colorscale\":[[0.0,\"#0d0887\"],[0.1111111111111111,\"#46039f\"],[0.2222222222222222,\"#7201a8\"],[0.3333333333333333,\"#9c179e\"],[0.4444444444444444,\"#bd3786\"],[0.5555555555555556,\"#d8576b\"],[0.6666666666666666,\"#ed7953\"],[0.7777777777777778,\"#fb9f3a\"],[0.8888888888888888,\"#fdca26\"],[1.0,\"#f0f921\"]],\"type\":\"contour\"}],\"heatmapgl\":[{\"colorbar\":{\"outlinewidth\":0,\"ticks\":\"\"},\"colorscale\":[[0.0,\"#0d0887\"],[0.1111111111111111,\"#46039f\"],[0.2222222222222222,\"#7201a8\"],[0.3333333333333333,\"#9c179e\"],[0.4444444444444444,\"#bd3786\"],[0.5555555555555556,\"#d8576b\"],[0.6666666666666666,\"#ed7953\"],[0.7777777777777778,\"#fb9f3a\"],[0.8888888888888888,\"#fdca26\"],[1.0,\"#f0f921\"]],\"type\":\"heatmapgl\"}],\"heatmap\":[{\"colorbar\":{\"outlinewidth\":0,\"ticks\":\"\"},\"colorscale\":[[0.0,\"#0d0887\"],[0.1111111111111111,\"#46039f\"],[0.2222222222222222,\"#7201a8\"],[0.3333333333333333,\"#9c179e\"],[0.4444444444444444,\"#bd3786\"],[0.5555555555555556,\"#d8576b\"],[0.6666666666666666,\"#ed7953\"],[0.7777777777777778,\"#fb9f3a\"],[0.8888888888888888,\"#fdca26\"],[1.0,\"#f0f921\"]],\"type\":\"heatmap\"}],\"histogram2dcontour\":[{\"colorbar\":{\"outlinewidth\":0,\"ticks\":\"\"},\"colorscale\":[[0.0,\"#0d0887\"],[0.1111111111111111,\"#46039f\"],[0.2222222222222222,\"#7201a8\"],[0.3333333333333333,\"#9c179e\"],[0.4444444444444444,\"#bd3786\"],[0.5555555555555556,\"#d8576b\"],[0.6666666666666666,\"#ed7953\"],[0.7777777777777778,\"#fb9f3a\"],[0.8888888888888888,\"#fdca26\"],[1.0,\"#f0f921\"]],\"type\":\"histogram2dcontour\"}],\"histogram2d\":[{\"colorbar\":{\"outlinewidth\":0,\"ticks\":\"\"},\"colorscale\":[[0.0,\"#0d0887\"],[0.1111111111111111,\"#46039f\"],[0.2222222222222222,\"#7201a8\"],[0.3333333333333333,\"#9c179e\"],[0.4444444444444444,\"#bd3786\"],[0.5555555555555556,\"#d8576b\"],[0.6666666666666666,\"#ed7953\"],[0.7777777777777778,\"#fb9f3a\"],[0.8888888888888888,\"#fdca26\"],[1.0,\"#f0f921\"]],\"type\":\"histogram2d\"}],\"histogram\":[{\"marker\":{\"pattern\":{\"fillmode\":\"overlay\",\"size\":10,\"solidity\":0.2}},\"type\":\"histogram\"}],\"mesh3d\":[{\"colorbar\":{\"outlinewidth\":0,\"ticks\":\"\"},\"type\":\"mesh3d\"}],\"parcoords\":[{\"line\":{\"colorbar\":{\"outlinewidth\":0,\"ticks\":\"\"}},\"type\":\"parcoords\"}],\"pie\":[{\"automargin\":true,\"type\":\"pie\"}],\"scatter3d\":[{\"line\":{\"colorbar\":{\"outlinewidth\":0,\"ticks\":\"\"}},\"marker\":{\"colorbar\":{\"outlinewidth\":0,\"ticks\":\"\"}},\"type\":\"scatter3d\"}],\"scattercarpet\":[{\"marker\":{\"colorbar\":{\"outlinewidth\":0,\"ticks\":\"\"}},\"type\":\"scattercarpet\"}],\"scattergeo\":[{\"marker\":{\"colorbar\":{\"outlinewidth\":0,\"ticks\":\"\"}},\"type\":\"scattergeo\"}],\"scattergl\":[{\"marker\":{\"colorbar\":{\"outlinewidth\":0,\"ticks\":\"\"}},\"type\":\"scattergl\"}],\"scattermapbox\":[{\"marker\":{\"colorbar\":{\"outlinewidth\":0,\"ticks\":\"\"}},\"type\":\"scattermapbox\"}],\"scatterpolargl\":[{\"marker\":{\"colorbar\":{\"outlinewidth\":0,\"ticks\":\"\"}},\"type\":\"scatterpolargl\"}],\"scatterpolar\":[{\"marker\":{\"colorbar\":{\"outlinewidth\":0,\"ticks\":\"\"}},\"type\":\"scatterpolar\"}],\"scatter\":[{\"fillpattern\":{\"fillmode\":\"overlay\",\"size\":10,\"solidity\":0.2},\"type\":\"scatter\"}],\"scatterternary\":[{\"marker\":{\"colorbar\":{\"outlinewidth\":0,\"ticks\":\"\"}},\"type\":\"scatterternary\"}],\"surface\":[{\"colorbar\":{\"outlinewidth\":0,\"ticks\":\"\"},\"colorscale\":[[0.0,\"#0d0887\"],[0.1111111111111111,\"#46039f\"],[0.2222222222222222,\"#7201a8\"],[0.3333333333333333,\"#9c179e\"],[0.4444444444444444,\"#bd3786\"],[0.5555555555555556,\"#d8576b\"],[0.6666666666666666,\"#ed7953\"],[0.7777777777777778,\"#fb9f3a\"],[0.8888888888888888,\"#fdca26\"],[1.0,\"#f0f921\"]],\"type\":\"surface\"}],\"table\":[{\"cells\":{\"fill\":{\"color\":\"#EBF0F8\"},\"line\":{\"color\":\"white\"}},\"header\":{\"fill\":{\"color\":\"#C8D4E3\"},\"line\":{\"color\":\"white\"}},\"type\":\"table\"}]},\"layout\":{\"annotationdefaults\":{\"arrowcolor\":\"#2a3f5f\",\"arrowhead\":0,\"arrowwidth\":1},\"autotypenumbers\":\"strict\",\"coloraxis\":{\"colorbar\":{\"outlinewidth\":0,\"ticks\":\"\"}},\"colorscale\":{\"diverging\":[[0,\"#8e0152\"],[0.1,\"#c51b7d\"],[0.2,\"#de77ae\"],[0.3,\"#f1b6da\"],[0.4,\"#fde0ef\"],[0.5,\"#f7f7f7\"],[0.6,\"#e6f5d0\"],[0.7,\"#b8e186\"],[0.8,\"#7fbc41\"],[0.9,\"#4d9221\"],[1,\"#276419\"]],\"sequential\":[[0.0,\"#0d0887\"],[0.1111111111111111,\"#46039f\"],[0.2222222222222222,\"#7201a8\"],[0.3333333333333333,\"#9c179e\"],[0.4444444444444444,\"#bd3786\"],[0.5555555555555556,\"#d8576b\"],[0.6666666666666666,\"#ed7953\"],[0.7777777777777778,\"#fb9f3a\"],[0.8888888888888888,\"#fdca26\"],[1.0,\"#f0f921\"]],\"sequentialminus\":[[0.0,\"#0d0887\"],[0.1111111111111111,\"#46039f\"],[0.2222222222222222,\"#7201a8\"],[0.3333333333333333,\"#9c179e\"],[0.4444444444444444,\"#bd3786\"],[0.5555555555555556,\"#d8576b\"],[0.6666666666666666,\"#ed7953\"],[0.7777777777777778,\"#fb9f3a\"],[0.8888888888888888,\"#fdca26\"],[1.0,\"#f0f921\"]]},\"colorway\":[\"#636efa\",\"#EF553B\",\"#00cc96\",\"#ab63fa\",\"#FFA15A\",\"#19d3f3\",\"#FF6692\",\"#B6E880\",\"#FF97FF\",\"#FECB52\"],\"font\":{\"color\":\"#2a3f5f\"},\"geo\":{\"bgcolor\":\"white\",\"lakecolor\":\"white\",\"landcolor\":\"white\",\"showlakes\":true,\"showland\":true,\"subunitcolor\":\"#C8D4E3\"},\"hoverlabel\":{\"align\":\"left\"},\"hovermode\":\"closest\",\"mapbox\":{\"style\":\"light\"},\"paper_bgcolor\":\"white\",\"plot_bgcolor\":\"white\",\"polar\":{\"angularaxis\":{\"gridcolor\":\"#EBF0F8\",\"linecolor\":\"#EBF0F8\",\"ticks\":\"\"},\"bgcolor\":\"white\",\"radialaxis\":{\"gridcolor\":\"#EBF0F8\",\"linecolor\":\"#EBF0F8\",\"ticks\":\"\"}},\"scene\":{\"xaxis\":{\"backgroundcolor\":\"white\",\"gridcolor\":\"#DFE8F3\",\"gridwidth\":2,\"linecolor\":\"#EBF0F8\",\"showbackground\":true,\"ticks\":\"\",\"zerolinecolor\":\"#EBF0F8\"},\"yaxis\":{\"backgroundcolor\":\"white\",\"gridcolor\":\"#DFE8F3\",\"gridwidth\":2,\"linecolor\":\"#EBF0F8\",\"showbackground\":true,\"ticks\":\"\",\"zerolinecolor\":\"#EBF0F8\"},\"zaxis\":{\"backgroundcolor\":\"white\",\"gridcolor\":\"#DFE8F3\",\"gridwidth\":2,\"linecolor\":\"#EBF0F8\",\"showbackground\":true,\"ticks\":\"\",\"zerolinecolor\":\"#EBF0F8\"}},\"shapedefaults\":{\"line\":{\"color\":\"#2a3f5f\"}},\"ternary\":{\"aaxis\":{\"gridcolor\":\"#DFE8F3\",\"linecolor\":\"#A2B1C6\",\"ticks\":\"\"},\"baxis\":{\"gridcolor\":\"#DFE8F3\",\"linecolor\":\"#A2B1C6\",\"ticks\":\"\"},\"bgcolor\":\"white\",\"caxis\":{\"gridcolor\":\"#DFE8F3\",\"linecolor\":\"#A2B1C6\",\"ticks\":\"\"}},\"title\":{\"x\":0.05},\"xaxis\":{\"automargin\":true,\"gridcolor\":\"#EBF0F8\",\"linecolor\":\"#EBF0F8\",\"ticks\":\"\",\"title\":{\"standoff\":15},\"zerolinecolor\":\"#EBF0F8\",\"zerolinewidth\":2},\"yaxis\":{\"automargin\":true,\"gridcolor\":\"#EBF0F8\",\"linecolor\":\"#EBF0F8\",\"ticks\":\"\",\"title\":{\"standoff\":15},\"zerolinecolor\":\"#EBF0F8\",\"zerolinewidth\":2}}},\"margin\":{\"l\":50,\"r\":50,\"t\":50,\"b\":50},\"title\":{\"text\":\"Difference-in-Differences (DID)\"},\"xaxis\":{\"title\":{\"text\":\"Periodo\"}},\"yaxis\":{\"title\":{\"text\":\"Mobilità Media\"}},\"legend\":{\"title\":{\"text\":\"Gruppo\"}},\"height\":500},                        {\"responsive\": true}                    ).then(function(){\n",
              "                            \n",
              "var gd = document.getElementById('ca28e0c4-5243-4c0a-a345-30dece01f9e9');\n",
              "var x = new MutationObserver(function (mutations, observer) {{\n",
              "        var display = window.getComputedStyle(gd).display;\n",
              "        if (!display || display === 'none') {{\n",
              "            console.log([gd, 'removed!']);\n",
              "            Plotly.purge(gd);\n",
              "            observer.disconnect();\n",
              "        }}\n",
              "}});\n",
              "\n",
              "// Listen for the removal of the full notebook cells\n",
              "var notebookContainer = gd.closest('#notebook-container');\n",
              "if (notebookContainer) {{\n",
              "    x.observe(notebookContainer, {childList: true});\n",
              "}}\n",
              "\n",
              "// Listen for the clearing of the current output cell\n",
              "var outputEl = gd.closest('.output');\n",
              "if (outputEl) {{\n",
              "    x.observe(outputEl, {childList: true});\n",
              "}}\n",
              "\n",
              "                        })                };                            </script>        </div>\n",
              "</body>\n",
              "</html>"
            ]
          },
          "metadata": {}
        }
      ],
      "source": [
        "import plotly.graph_objects as go\n",
        "\n",
        "# Visualizzazione dei risultati con Difference-in-Differences\n",
        "print(\"\\nVisualizzazione dei risultati:\")\n",
        "\n",
        "# Preparazione dei dati\n",
        "treated_observed = [did_data.loc[(1, 0), 'pre_mobility'], did_data.loc[(1, 1), 'post_mobility']]\n",
        "control_observed = [did_data.loc[(0, 0), 'pre_mobility'], did_data.loc[(0, 1), 'post_mobility']]\n",
        "treated_counterfactual = [did_data.loc[(1, 0), 'pre_mobility'], counterfactual]\n",
        "\n",
        "print(f\"Dati osservati - Gruppo trattato: Pre-Intervento = {did_data.loc[(1, 0), 'pre_mobility']:.2f}, Post-Intervento = {did_data.loc[(1, 1), 'post_mobility']:.2f}\")\n",
        "print(f\"Dati osservati - Gruppo di controllo: Pre-Intervento = {did_data.loc[(0, 0), 'pre_mobility']:.2f}, Post-Intervento = {did_data.loc[(0, 1), 'post_mobility']:.2f}\")\n",
        "print(f\"Dati stimati - Controfattuale gruppo trattato: Pre-Intervento = {did_data.loc[(1, 0), 'pre_mobility']:.2f}, Post-Intervento = {counterfactual:.2f}\")\n",
        "\n",
        "# Creazione del grafico Plotly\n",
        "fig = go.Figure()\n",
        "\n",
        "# Linea per il gruppo trattato (osservato)\n",
        "fig.add_trace(go.Scatter(\n",
        "    x=['Pre-Intervento', 'Post-Intervento'],\n",
        "    y=treated_observed,\n",
        "    mode='lines+markers',\n",
        "    name='Trattato (osservato)',\n",
        "    line=dict(dash='solid', color='blue'),\n",
        "    marker=dict(size=8)\n",
        "))\n",
        "\n",
        "# Linea per il gruppo di controllo (osservato)\n",
        "fig.add_trace(go.Scatter(\n",
        "    x=['Pre-Intervento', 'Post-Intervento'],\n",
        "    y=control_observed,\n",
        "    mode='lines+markers',\n",
        "    name='Controllo (osservato)',\n",
        "    line=dict(dash='solid', color='green'),\n",
        "    marker=dict(size=8)\n",
        "))\n",
        "\n",
        "# Linea per il controfattuale stimato del gruppo trattato\n",
        "fig.add_trace(go.Scatter(\n",
        "    x=['Pre-Intervento', 'Post-Intervento'],\n",
        "    y=treated_counterfactual,\n",
        "    mode='lines+markers',\n",
        "    name='Trattato (controfattuale)',\n",
        "    line=dict(dash='dash', color='red'),\n",
        "    marker=dict(size=8, symbol='x')\n",
        "))\n",
        "\n",
        "# Configurazione del layout\n",
        "fig.update_layout(\n",
        "    title=\"Difference-in-Differences (DID)\",\n",
        "    xaxis=dict(title=\"Periodo\"),\n",
        "    yaxis=dict(title=\"Mobilità Media\"),\n",
        "    legend=dict(title=\"Gruppo\"),\n",
        "    template=\"plotly_white\",\n",
        "    margin=dict(l=50, r=50, t=50, b=50),\n",
        "    height=500\n",
        ")\n",
        "\n",
        "# Mostra il grafico\n",
        "fig.show()\n"
      ]
    }
  ],
  "metadata": {
    "kernelspec": {
      "display_name": "Python 3",
      "language": "python",
      "name": "python3"
    },
    "language_info": {
      "name": "python",
      "version": "3.8"
    },
    "colab": {
      "provenance": []
    }
  },
  "nbformat": 4,
  "nbformat_minor": 0
}